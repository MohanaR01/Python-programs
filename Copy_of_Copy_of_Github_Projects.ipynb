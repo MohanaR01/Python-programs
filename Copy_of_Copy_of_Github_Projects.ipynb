{
  "nbformat": 4,
  "nbformat_minor": 0,
  "metadata": {
    "colab": {
      "name": "Copy of Copy of Github_Projects.ipynb",
      "provenance": [],
      "collapsed_sections": [],
      "authorship_tag": "ABX9TyNuU6d2WHfaMK5W51p7Y2fO",
      "include_colab_link": true
    },
    "kernelspec": {
      "name": "python3",
      "display_name": "Python 3"
    },
    "language_info": {
      "name": "python"
    }
  },
  "cells": [
    {
      "cell_type": "markdown",
      "metadata": {
        "id": "view-in-github",
        "colab_type": "text"
      },
      "source": [
        "<a href=\"https://colab.research.google.com/github/MohanaR01/Python-programs/blob/main/Copy_of_Copy_of_Github_Projects.ipynb\" target=\"_parent\"><img src=\"https://colab.research.google.com/assets/colab-badge.svg\" alt=\"Open In Colab\"/></a>"
      ]
    },
    {
      "cell_type": "markdown",
      "metadata": {
        "id": "9XWZa1tVGmvl"
      },
      "source": [
        "Program 1 :\n",
        "**Rock Paper Scissor**\n",
        "\n",
        "---\n",
        "\n",
        "\n",
        "Rock paper scissors is a hand game for two or more players. Participants say “rock, paper, scissors” and then simultaneously form their hands into the shape of a rock (a fist), a piece of paper (palm facing downward), or a pair of scissors (two fingers extended). The rules are straightforward:\n",
        "\n",
        "\n",
        "*   Rock smashes scissors.\n",
        "\n",
        "*   Paper covers rock.\n",
        "\n",
        "*   Scissors cut paper.\n",
        "\n",
        "\n",
        "---\n",
        "\n",
        "The below program is based on the above concept."
      ]
    },
    {
      "cell_type": "code",
      "metadata": {
        "id": "0Q2HDLc0Gjgk"
      },
      "source": [
        "import random  # This module is imported to simulate the computer choices"
      ],
      "execution_count": null,
      "outputs": []
    },
    {
      "cell_type": "code",
      "metadata": {
        "colab": {
          "base_uri": "https://localhost:8080/"
        },
        "id": "ObfN_zgNIHma",
        "outputId": "3787ed82-ed03-419f-c318-2219bd37446e"
      },
      "source": [
        "possible_entries = ['rock','paper','scissor']\n",
        "user_input = input(\"Enter your choice (rock,paper,scissor):\")\n",
        "\n",
        "# choice() method is used to select the entry randomly from the list \"possible_entries\"\n",
        "system_input = random.choice(possible_entries) \n",
        "\n",
        "print(\"The user choice is\",user_input,\"\\nThe system choice is\",system_input)\n",
        "\n",
        "if user_input == system_input:\n",
        "  print(\"Tie\")\n",
        "elif user_input == 'rock':\n",
        "  if system_input == 'paper':\n",
        "    print (\"You won!!! paper covers rock\")\n",
        "  else:\n",
        "      print (\"You won!!! Rock smashes scissor\")\n",
        "\n",
        "elif user_input == 'paper':\n",
        "  if system_input == 'scissor':\n",
        "    print('You won!!! Scissor cuts the paper')\n",
        "  else:\n",
        "      print('You won!!!Paper covers the rock')\n",
        "\n",
        "elif user_input == 'scissor':\n",
        "  if system_input == 'rock':\n",
        "    print('You won!!!Rock smashes the scissor')\n",
        "  else:\n",
        "      print ('You won!!!Scissor cuts the paper')  "
      ],
      "execution_count": null,
      "outputs": [
        {
          "output_type": "stream",
          "name": "stdout",
          "text": [
            "Enter your choice (rock,paper,scissor):paper\n",
            "The user choice is paper \n",
            "The system choice is scissor\n",
            "You won!!! Scissor cuts the paper\n"
          ]
        }
      ]
    },
    {
      "cell_type": "markdown",
      "metadata": {
        "id": "myHLM1mUVih4"
      },
      "source": [
        "Program 2 :\n",
        "**Random Password Generator**\n",
        "\n",
        "---\n",
        "To generate a random password that contains at least one lowercase letter, one uppercase letter, one digit, and one special symbol."
      ]
    },
    {
      "cell_type": "code",
      "metadata": {
        "colab": {
          "base_uri": "https://localhost:8080/"
        },
        "id": "HIkkQEKyLQtp",
        "outputId": "2dd0ab26-35df-46f5-80d2-4e65ebc599b2"
      },
      "source": [
        "import random\n",
        "import string\n",
        "\n",
        "characters = list(string.ascii_lowercase+string.ascii_uppercase + string.digits + string.punctuation)\n",
        "\n",
        "def random_passwd():\n",
        "  length = int(input('Enter the length of the password'))\n",
        "  password = []\n",
        "  for i in range(length):\n",
        "    password.append(random.choice(characters))\n",
        "\n",
        "  #Shuffles the list 'password'  \n",
        "  random.shuffle(password) \n",
        "\n",
        "  # join() method takes all items in an iterable and joins them into one string\n",
        "  print(''.join(password)) \n",
        "\n",
        "random_passwd()"
      ],
      "execution_count": null,
      "outputs": [
        {
          "output_type": "stream",
          "name": "stdout",
          "text": [
            "Enter the length of the password8\n",
            "YwJ;*@3Y\n"
          ]
        }
      ]
    },
    {
      "cell_type": "markdown",
      "metadata": {
        "id": "tQqbNYlhlBfX"
      },
      "source": [
        "**Program 3: Scientific Calculator** \n",
        "To perform the functions of a simple scientific calculator"
      ]
    },
    {
      "cell_type": "code",
      "metadata": {
        "colab": {
          "base_uri": "https://localhost:8080/"
        },
        "id": "havnwdawtFZF",
        "outputId": "40ea0bb3-2fae-4d36-b949-0e9e333eca3e"
      },
      "source": [
        "import numpy as np\n",
        "import math\n",
        "class scientific_calc:\n",
        "\n",
        "  def add(x,y):\n",
        "    sum = x + y  \n",
        "    print(\"Sum is\",sum)\n",
        "\n",
        "  def sub(x,y):\n",
        "    sub = x - y\n",
        "    print(\"Difference is\",sub)\n",
        "  \n",
        "  def mul(x,y):\n",
        "    product = x*y\n",
        "    print(\"Product is\",product)\n",
        "  \n",
        "  def div(x,y):\n",
        "    divmod(x,y)\n",
        "    print('Qoutient and remainder is',divmod(x,y))\n",
        "\n",
        "  def x_pow_y(x,y):\n",
        "    pow = x**y\n",
        "    print(x,'to the power of',y,'is',pow)\n",
        "\n",
        "  def abs(x):\n",
        "    abs = np.abs(x)\n",
        "    print(\"Absolute value of\",x,'is',abs)\n",
        "\n",
        "  def sin(x):\n",
        "    sin = math.sin(math.radians(x)) \n",
        "    print('Sine of',x,'is',sin)\n",
        "\n",
        "  def cos(x):\n",
        "    cos = math.cos(math.radians(x))\n",
        "    print('Cosine of',x,'is',cos)\n",
        "\n",
        "  def tan(x):\n",
        "    tan = math.tan(math.radians(x))\n",
        "    print('Tangent of',x,'is',tan)\n",
        "\n",
        "  def sin_inverse(x):\n",
        "    sin_inv = math.asin(x)\n",
        "    print('Sine inverse of',x,'is',sin_inv)\n",
        "\n",
        "  def cos_inverse(x):\n",
        "    cos_inv = math.acos(x)\n",
        "    print('Cosine inverse of',x,'is',cos_inv)\n",
        "\n",
        "  def tan_inverse(x):\n",
        "    tan_inv = math.atan(x)\n",
        "    print('Tangent inverse of',x,'is',tan_inv)\n",
        "\n",
        "  def log(x):\n",
        "    log = math.log10(x)\n",
        "    print('Lograthmic value of',x,'is',log)\n",
        " \n",
        "  def ln(x):\n",
        "   ln = math.log(x)\n",
        "   print('Natural lograthmic value of ',x,'is',ln)\n",
        "\n",
        "  def fact(n):\n",
        "    if n<0:\n",
        "      print('Enter positive number')\n",
        "    elif (n==0 or n==1):\n",
        "      return 1\n",
        "    else:\n",
        "      return (n * fact(n-1))\n",
        "\n",
        "a1 = scientific_calc.div(15,2)"
      ],
      "execution_count": null,
      "outputs": [
        {
          "output_type": "stream",
          "name": "stdout",
          "text": [
            "Qoutient and remainder is (7, 1)\n"
          ]
        }
      ]
    },
    {
      "cell_type": "markdown",
      "metadata": {
        "id": "NjW7UPODKaX3"
      },
      "source": [
        "**Program 4: Countdown Timer**\n",
        "\n",
        "The code will take input from the user regarding the length of the countdown in seconds. After that, a countdown will begin on the screen of the format ‘minutes: seconds’. "
      ]
    },
    {
      "cell_type": "code",
      "metadata": {
        "colab": {
          "base_uri": "https://localhost:8080/"
        },
        "id": "B03kBkuKN_3T",
        "outputId": "9f63af71-7041-4d07-c80b-e3169fd65ff5"
      },
      "source": [
        "\n",
        "import time # import the time module\n",
        "\n",
        "  \n",
        "def countdown(t):\n",
        "    \n",
        "    while t:\n",
        "        #To calculate the number of minutes and seconds      \n",
        "        mins, secs = divmod(t, 60)\n",
        "\n",
        "        timer = '{:02d}:{:02d}'.format(mins, secs)\n",
        "\n",
        "        #Carriage return\n",
        "        print(timer, end=\"\\r\") \n",
        "\n",
        "        #To make the code wait for one sec\n",
        "        time.sleep(1)\n",
        "\n",
        "        t -= 1\n",
        "      \n",
        "    print('Time up!!')\n",
        "  \n",
        "  \n",
        "t = input(\"Enter the time in seconds: \") \n",
        "  \n",
        "countdown(int(t))"
      ],
      "execution_count": null,
      "outputs": [
        {
          "output_type": "stream",
          "name": "stdout",
          "text": [
            "Enter the time in seconds: 5\n",
            "Time up!!\n"
          ]
        }
      ]
    }
  ]
}